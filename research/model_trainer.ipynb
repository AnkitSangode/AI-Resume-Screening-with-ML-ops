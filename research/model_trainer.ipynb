{
 "cells": [
  {
   "cell_type": "code",
   "execution_count": 1,
   "id": "5401fd14",
   "metadata": {},
   "outputs": [
    {
     "data": {
      "text/plain": [
       "'d:\\\\Python\\\\Industry level\\\\EndtoEnd combination\\\\AI-Resume-Screening-with-ML-ops'"
      ]
     },
     "execution_count": 1,
     "metadata": {},
     "output_type": "execute_result"
    }
   ],
   "source": [
    "import os\n",
    "os.chdir('../')\n",
    "%pwd"
   ]
  },
  {
   "cell_type": "code",
   "execution_count": 2,
   "id": "ef53da91",
   "metadata": {},
   "outputs": [],
   "source": [
    "from dataclasses import dataclass\n",
    "from pathlib import Path\n",
    "\n",
    "@dataclass(frozen=True)\n",
    "class ModelTrainerConfig:\n",
    "    root_dir: str\n",
    "    X_train_path: str\n",
    "    y_train_path: str\n",
    "    X_test_path: str\n",
    "    y_test_path: str\n",
    "    params: dict"
   ]
  },
  {
   "cell_type": "code",
   "execution_count": 3,
   "id": "509d1878",
   "metadata": {},
   "outputs": [],
   "source": [
    "from resumeScreening.constants import *\n",
    "from resumeScreening.utils.common import read_yaml,create_directories"
   ]
  },
  {
   "cell_type": "code",
   "execution_count": 4,
   "id": "c07e6ba1",
   "metadata": {},
   "outputs": [],
   "source": [
    "class ConfigurationManager:\n",
    "    def __init__(\n",
    "            self,\n",
    "            config_filepath = CONFIG_FILE_PATH,\n",
    "            params_filepath = PARAMS_FILE_PATH,\n",
    "    ):\n",
    "        self.config = read_yaml(config_filepath)\n",
    "        self.params = read_yaml(params_filepath)\n",
    "\n",
    "        create_directories([self.config.artifacts_root])\n",
    "\n",
    "    def get_model_training_config(self) -> ModelTrainerConfig:\n",
    "        config = self.config.model_trainer\n",
    "        create_directories([config.root_dir])\n",
    "\n",
    "        model_training_config = ModelTrainerConfig(\n",
    "            root_dir= config.root_dir,\n",
    "            X_train_path= config.X_train_path,\n",
    "            y_train_path=config.y_train_path,\n",
    "            X_test_path= config.X_test_path,\n",
    "            y_test_path= config.y_test_path,\n",
    "            params= self.params.model_training\n",
    "        )\n",
    "\n",
    "        return model_training_config"
   ]
  },
  {
   "cell_type": "code",
   "execution_count": 11,
   "id": "7e954f45",
   "metadata": {},
   "outputs": [],
   "source": [
    "import pickle\n",
    "import numpy as np\n",
    "from sklearn.metrics import accuracy_score, classification_report\n",
    "from sklearn.model_selection import GridSearchCV\n",
    "from sklearn.linear_model import LogisticRegression\n",
    "from sklearn.ensemble import RandomForestClassifier\n",
    "from sklearn.svm import SVC\n",
    "from resumeScreening import logger"
   ]
  },
  {
   "cell_type": "code",
   "execution_count": 9,
   "id": "012b557a",
   "metadata": {},
   "outputs": [],
   "source": [
    "class ModelTrainer:\n",
    "    def __init__(self,config: ModelTrainerConfig):\n",
    "        self.config = config\n",
    "        self.X_train = pickle.load(open(self.config.X_train_path, \"rb\"))\n",
    "        self.y_train = np.load(self.config.y_train_path)\n",
    "        self.X_test = pickle.load(open(self.config.X_test_path, \"rb\"))\n",
    "        self.y_test = np.load(self.config.y_test_path)\n",
    "\n",
    "    def train_model(self,model,param_grid,name):\n",
    "        logger.info(f\"Training: {name}\")\n",
    "        grid = GridSearchCV(model,param_grid,cv=5,n_jobs=-1,verbose=1)\n",
    "        grid.fit(self.X_train,self.y_train)\n",
    "        best_model = grid.best_estimator_\n",
    "        logger.info(f\"Best model is {best_model}\")\n",
    "\n",
    "\n",
    "         # Save the best model\n",
    "        with open(f\"{self.config.root_dir}/{name.lower().replace(' ', '_')}.pkl\", \"wb\") as f:\n",
    "            pickle.dump(best_model, f)\n",
    "\n",
    "    def train_all(self):\n",
    "        self.train_model(\n",
    "            LogisticRegression(max_iter=1000),\n",
    "            self.config.params.logistic_regression,\n",
    "            \"LogisticRegression\"\n",
    "        )\n",
    "\n",
    "        self.train_model(\n",
    "            RandomForestClassifier(),\n",
    "            self.config.params.random_forest,\n",
    "            \"RandomForestClassifier\"\n",
    "        )\n",
    "\n",
    "        self.train_model(\n",
    "            SVC(),\n",
    "            self.config.params.svm,\n",
    "            \"SVM\"\n",
    "        )\n"
   ]
  },
  {
   "cell_type": "code",
   "execution_count": 13,
   "id": "c65eb17d",
   "metadata": {},
   "outputs": [
    {
     "name": "stdout",
     "output_type": "stream",
     "text": [
      "[2025-08-06 04:30:16,193: INFO: yaml file: config\\config.yaml loaded successfully]\n",
      "[2025-08-06 04:30:16,201: INFO: yaml file: params.yaml loaded successfully]\n",
      "[2025-08-06 04:30:16,203: INFO: Created directory at: artifacts]\n",
      "[2025-08-06 04:30:16,205: INFO: Created directory at: artifacts/model_trainer]\n",
      "[2025-08-06 04:30:16,217: INFO: Training: LogisticRegression]\n",
      "Fitting 5 folds for each of 9 candidates, totalling 45 fits\n",
      "[2025-08-06 04:30:41,487: INFO: Best model is LogisticRegression(C=1, max_iter=1000)]\n",
      "[2025-08-06 04:30:41,549: INFO: Training: RandomForestClassifier]\n",
      "Fitting 5 folds for each of 8 candidates, totalling 40 fits\n"
     ]
    },
    {
     "name": "stderr",
     "output_type": "stream",
     "text": [
      "d:\\Python\\Industry level\\EndtoEnd combination\\AI-Resume-Screening-with-ML-ops\\resume\\Lib\\site-packages\\sklearn\\model_selection\\_validation.py:516: FitFailedWarning: \n",
      "20 fits failed out of a total of 40.\n",
      "The score on these train-test partitions for these parameters will be set to nan.\n",
      "If these failures are not expected, you can try to debug them by setting error_score='raise'.\n",
      "\n",
      "Below are more details about the failures:\n",
      "--------------------------------------------------------------------------------\n",
      "20 fits failed with the following error:\n",
      "Traceback (most recent call last):\n",
      "  File \"d:\\Python\\Industry level\\EndtoEnd combination\\AI-Resume-Screening-with-ML-ops\\resume\\Lib\\site-packages\\sklearn\\model_selection\\_validation.py\", line 859, in _fit_and_score\n",
      "    estimator.fit(X_train, y_train, **fit_params)\n",
      "  File \"d:\\Python\\Industry level\\EndtoEnd combination\\AI-Resume-Screening-with-ML-ops\\resume\\Lib\\site-packages\\sklearn\\base.py\", line 1358, in wrapper\n",
      "    estimator._validate_params()\n",
      "  File \"d:\\Python\\Industry level\\EndtoEnd combination\\AI-Resume-Screening-with-ML-ops\\resume\\Lib\\site-packages\\sklearn\\base.py\", line 471, in _validate_params\n",
      "    validate_parameter_constraints(\n",
      "  File \"d:\\Python\\Industry level\\EndtoEnd combination\\AI-Resume-Screening-with-ML-ops\\resume\\Lib\\site-packages\\sklearn\\utils\\_param_validation.py\", line 98, in validate_parameter_constraints\n",
      "    raise InvalidParameterError(\n",
      "sklearn.utils._param_validation.InvalidParameterError: The 'max_depth' parameter of RandomForestClassifier must be an int in the range [1, inf) or None. Got 'None' instead.\n",
      "\n",
      "  warnings.warn(some_fits_failed_message, FitFailedWarning)\n",
      "d:\\Python\\Industry level\\EndtoEnd combination\\AI-Resume-Screening-with-ML-ops\\resume\\Lib\\site-packages\\sklearn\\model_selection\\_search.py:1135: UserWarning: One or more of the test scores are non-finite: [       nan        nan        nan        nan 0.97788812 0.9883032\n",
      " 0.9883032  0.9896019 ]\n",
      "  warnings.warn(\n"
     ]
    },
    {
     "name": "stdout",
     "output_type": "stream",
     "text": [
      "[2025-08-06 04:30:52,038: INFO: Best model is RandomForestClassifier(max_depth=10, min_samples_split=5, n_estimators=200)]\n",
      "[2025-08-06 04:30:52,381: INFO: Training: SVM]\n",
      "Fitting 5 folds for each of 4 candidates, totalling 20 fits\n",
      "[2025-08-06 04:30:58,725: INFO: Best model is SVC(C=1, kernel='linear')]\n"
     ]
    }
   ],
   "source": [
    "try:\n",
    "    config = ConfigurationManager()\n",
    "    get_model_training_config = config.get_model_training_config()\n",
    "    model_trainer = ModelTrainer(config = get_model_training_config)\n",
    "    model_trainer.train_all()\n",
    "except Exception as e:\n",
    "    raise e"
   ]
  }
 ],
 "metadata": {
  "kernelspec": {
   "display_name": "resume",
   "language": "python",
   "name": "python3"
  },
  "language_info": {
   "codemirror_mode": {
    "name": "ipython",
    "version": 3
   },
   "file_extension": ".py",
   "mimetype": "text/x-python",
   "name": "python",
   "nbconvert_exporter": "python",
   "pygments_lexer": "ipython3",
   "version": "3.11.0"
  }
 },
 "nbformat": 4,
 "nbformat_minor": 5
}

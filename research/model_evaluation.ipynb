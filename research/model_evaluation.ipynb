{
 "cells": [
  {
   "cell_type": "code",
   "execution_count": 121,
   "id": "c40cac60",
   "metadata": {},
   "outputs": [
    {
     "data": {
      "text/plain": [
       "'d:\\\\Python\\\\Industry level\\\\EndtoEnd combination'"
      ]
     },
     "execution_count": 121,
     "metadata": {},
     "output_type": "execute_result"
    }
   ],
   "source": [
    "import os\n",
    "os.chdir('../')\n",
    "%pwd"
   ]
  },
  {
   "cell_type": "code",
   "execution_count": 122,
   "id": "dbec3352",
   "metadata": {},
   "outputs": [],
   "source": [
    "from dataclasses import dataclass\n",
    "from pathlib import Path\n",
    "\n",
    "@dataclass(frozen=True)\n",
    "class ModelEvaluationConfig:\n",
    "    test_data_path : Path\n",
    "    label_encoder_path: Path\n",
    "    vectorizer_path: Path\n",
    "    ml_model_path: dict\n",
    "    dl_model_path: Path"
   ]
  },
  {
   "cell_type": "code",
   "execution_count": 123,
   "id": "1ab5b7cc",
   "metadata": {},
   "outputs": [],
   "source": [
    "from resumeScreening.constants import *\n",
    "from resumeScreening.utils.common import read_yaml,create_directories"
   ]
  },
  {
   "cell_type": "code",
   "execution_count": 124,
   "id": "9855af39",
   "metadata": {},
   "outputs": [],
   "source": [
    "class ConfigurationManager:\n",
    "    def __init__(\n",
    "            self,\n",
    "            config_filepath = CONFIG_FILE_PATH,\n",
    "            params_filepath =  PARAMS_FILE_PATH\n",
    "    ):\n",
    "        self.config = read_yaml(config_filepath)\n",
    "        self.params = read_yaml(params_filepath)\n",
    "\n",
    "        create_directories([self.config.artifacts_root])\n",
    "\n",
    "    def get_model_evaluation_config(self) -> ModelEvaluationConfig:\n",
    "        config = self.config.model_evaluation\n",
    "\n",
    "        model_evaluation_config = ModelEvaluationConfig(\n",
    "            test_data_path= Path(config.test_data_path),\n",
    "            label_encoder_path= Path(config.label_encoder_path),\n",
    "            vectorizer_path= Path(config.vectorizer_path),\n",
    "            ml_model_path= {\n",
    "                \"logisticregression\": Path(config.ml_model_path.logreg),\n",
    "                \"RandomForest\": Path(config.ml_model_path.rf),\n",
    "                \"SVM\": Path(config.ml_model_path.svc)\n",
    "            },\n",
    "            dl_model_path= Path(config.dl_model_path)\n",
    "        )\n",
    "        return model_evaluation_config"
   ]
  },
  {
   "cell_type": "code",
   "execution_count": 125,
   "id": "9181e263",
   "metadata": {},
   "outputs": [],
   "source": [
    "import pandas as pd\n",
    "import pickle\n",
    "from sklearn.metrics import accuracy_score,classification_report\n",
    "import mlflow\n",
    "import mlflow.sklearn\n",
    "from resumeScreening import logger\n",
    "from tensorflow.keras.models import load_model\n",
    "from tensorflow.keras.utils import to_categorical\n",
    "import mlflow.keras"
   ]
  },
  {
   "cell_type": "code",
   "execution_count": 126,
   "id": "72f14938",
   "metadata": {},
   "outputs": [],
   "source": [
    "class ModelEvaluation:\n",
    "    def __init__(self, config: ModelEvaluationConfig):\n",
    "        self.config = config\n",
    "\n",
    "    def evaluate(self):\n",
    "        #load test data\n",
    "        test_df = pd.read_csv(self.config.test_data_path)\n",
    "        X_test_text = test_df['Cleaned_Resume']\n",
    "        y_test_labels = test_df['Category']\n",
    "\n",
    "        #Load label encoder and vectorizer\n",
    "        with open(self.config.label_encoder_path,'rb') as f:\n",
    "            label_encoder = pickle.load(f)\n",
    "\n",
    "        y_test_encoded = label_encoder.transform(y_test_labels)\n",
    "\n",
    "        with open(self.config.vectorizer_path,'rb') as f:\n",
    "            vectorizer = pickle.load(f)\n",
    "\n",
    "        X_test_vectorized = vectorizer.transform(X_test_text)\n",
    "\n",
    "        #Evaluate ML Models\n",
    "\n",
    "        for name, path in self.config.ml_model_path.items():\n",
    "            with open(path,'rb') as f:\n",
    "                model = pickle.load(f)\n",
    "\n",
    "            y_pred = model.predict(X_test_vectorized)\n",
    "            acc = accuracy_score(y_test_encoded, y_pred)\n",
    "            cr = classification_report(y_test_encoded,y_pred,target_names=label_encoder.classes_)\n",
    "            logger.info(f\"{name} Accuracy: {acc}\")\n",
    "            logger.info(f\"Classifcation report: {cr}\")\n",
    "\n",
    "            with mlflow.start_run(run_name=f\"{name}_eval\"):\n",
    "                mlflow.log_param(\"model_type\", \"ML\")\n",
    "                mlflow.log_metric(\"accuracy\", acc)\n",
    "                mlflow.sklearn.log_model(model, name)\n",
    "\n",
    "    #Deep learning\n",
    "\n",
    "        # Load vectorizer used during training\n",
    "        with open(self.config.vectorizer_path, \"rb\") as f:\n",
    "            vectorizer = pickle.load(f)\n",
    "\n",
    "        X_test_vectorized = vectorizer.transform(X_test_text)\n",
    "        X_test_dl = X_test_vectorized.toarray().astype(\"float32\")\n",
    "\n",
    "# Load trained DL model\n",
    "        deep_model = load_model(self.config.dl_model_path)\n",
    "\n",
    "# Confirm shapes match\n",
    "        assert deep_model.input_shape[1] == X_test_dl.shape[1], \\\n",
    "        f\"Shape mismatch: Model expects {deep_model.input_shape[1]}, but got {X_test_dl.shape[1]}\"\n",
    "\n",
    "# Prediction\n",
    "        y_pred_probs = deep_model.predict(X_test_dl)\n",
    "        y_pred_dl = y_pred_probs.argmax(axis=1)\n",
    "\n",
    "# Evaluation\n",
    "        acc_dl = accuracy_score(y_test_encoded, y_pred_dl)\n",
    "        cr = classification_report(y_test_encoded, y_pred_dl, target_names=label_encoder.classes_)\n",
    "\n",
    "        with mlflow.start_run(run_name=\"DL_eval\"):\n",
    "            mlflow.log_param(\"model_type\", \"DL\")\n",
    "            mlflow.log_metric(\"accuracy\", acc_dl)\n",
    "            mlflow.keras.log_model(deep_model, \"DeepModel\")\n",
    "            "
   ]
  },
  {
   "cell_type": "code",
   "execution_count": 127,
   "id": "09b67138",
   "metadata": {},
   "outputs": [],
   "source": [
    "%pwd\n",
    "os.chdir('d:\\\\Python\\\\Industry level\\\\EndtoEnd combination\\\\AI-Resume-Screening-with-ML-ops')"
   ]
  },
  {
   "cell_type": "code",
   "execution_count": 128,
   "id": "8df2f023",
   "metadata": {},
   "outputs": [
    {
     "name": "stdout",
     "output_type": "stream",
     "text": [
      "[2025-08-07 15:17:47,362: INFO: yaml file: config\\config.yaml loaded successfully]\n",
      "[2025-08-07 15:17:47,384: INFO: yaml file: params.yaml loaded successfully]\n",
      "[2025-08-07 15:17:47,392: INFO: Created directory at: artifacts]\n",
      "[2025-08-07 15:17:47,729: INFO: logisticregression Accuracy: 0.9844559585492227]\n",
      "[2025-08-07 15:17:47,732: INFO: Classifcation report:                            precision    recall  f1-score   support\n",
      "\n",
      "                 Advocate       1.00      0.33      0.50         3\n",
      "                     Arts       1.00      1.00      1.00         6\n",
      "       Automation Testing       1.00      1.00      1.00         5\n",
      "               Blockchain       1.00      1.00      1.00         7\n",
      "         Business Analyst       1.00      1.00      1.00         4\n",
      "           Civil Engineer       1.00      1.00      1.00         9\n",
      "             Data Science       1.00      1.00      1.00         5\n",
      "                 Database       1.00      1.00      1.00         8\n",
      "          DevOps Engineer       1.00      0.93      0.96        14\n",
      "         DotNet Developer       1.00      1.00      1.00         5\n",
      "            ETL Developer       1.00      1.00      1.00         7\n",
      "   Electrical Engineering       1.00      1.00      1.00         6\n",
      "                       HR       0.86      1.00      0.92        12\n",
      "                   Hadoop       1.00      1.00      1.00         4\n",
      "       Health and fitness       1.00      1.00      1.00         7\n",
      "           Java Developer       1.00      1.00      1.00        15\n",
      "      Mechanical Engineer       1.00      1.00      1.00         8\n",
      "Network Security Engineer       1.00      1.00      1.00         3\n",
      "       Operations Manager       1.00      1.00      1.00        12\n",
      "                      PMO       0.88      1.00      0.93         7\n",
      "         Python Developer       1.00      1.00      1.00        10\n",
      "            SAP Developer       1.00      1.00      1.00         7\n",
      "                    Sales       1.00      1.00      1.00         8\n",
      "                  Testing       1.00      1.00      1.00        16\n",
      "            Web Designing       1.00      1.00      1.00         5\n",
      "\n",
      "                 accuracy                           0.98       193\n",
      "                macro avg       0.99      0.97      0.97       193\n",
      "             weighted avg       0.99      0.98      0.98       193\n",
      "]\n"
     ]
    },
    {
     "name": "stderr",
     "output_type": "stream",
     "text": [
      "2025/08/07 15:17:47 WARNING mlflow.models.model: `artifact_path` is deprecated. Please use `name` instead.\n",
      "2025/08/07 15:18:01 WARNING mlflow.models.model: Model logged without a signature and input example. Please set `input_example` parameter when logging the model to auto infer the model signature.\n"
     ]
    },
    {
     "name": "stdout",
     "output_type": "stream",
     "text": [
      "[2025-08-07 15:18:01,943: INFO: RandomForest Accuracy: 0.9844559585492227]\n",
      "[2025-08-07 15:18:01,943: INFO: Classifcation report:                            precision    recall  f1-score   support\n",
      "\n",
      "                 Advocate       1.00      0.33      0.50         3\n",
      "                     Arts       1.00      1.00      1.00         6\n",
      "       Automation Testing       1.00      1.00      1.00         5\n",
      "               Blockchain       1.00      1.00      1.00         7\n",
      "         Business Analyst       1.00      1.00      1.00         4\n",
      "           Civil Engineer       1.00      1.00      1.00         9\n",
      "             Data Science       1.00      1.00      1.00         5\n",
      "                 Database       1.00      1.00      1.00         8\n",
      "          DevOps Engineer       1.00      0.93      0.96        14\n",
      "         DotNet Developer       1.00      1.00      1.00         5\n",
      "            ETL Developer       1.00      1.00      1.00         7\n",
      "   Electrical Engineering       1.00      1.00      1.00         6\n",
      "                       HR       0.86      1.00      0.92        12\n",
      "                   Hadoop       1.00      1.00      1.00         4\n",
      "       Health and fitness       1.00      1.00      1.00         7\n",
      "           Java Developer       1.00      1.00      1.00        15\n",
      "      Mechanical Engineer       1.00      1.00      1.00         8\n",
      "Network Security Engineer       1.00      1.00      1.00         3\n",
      "       Operations Manager       1.00      1.00      1.00        12\n",
      "                      PMO       1.00      1.00      1.00         7\n",
      "         Python Developer       1.00      1.00      1.00        10\n",
      "            SAP Developer       1.00      1.00      1.00         7\n",
      "                    Sales       0.89      1.00      0.94         8\n",
      "                  Testing       1.00      1.00      1.00        16\n",
      "            Web Designing       1.00      1.00      1.00         5\n",
      "\n",
      "                 accuracy                           0.98       193\n",
      "                macro avg       0.99      0.97      0.97       193\n",
      "             weighted avg       0.99      0.98      0.98       193\n",
      "]\n"
     ]
    },
    {
     "name": "stderr",
     "output_type": "stream",
     "text": [
      "2025/08/07 15:18:02 WARNING mlflow.models.model: `artifact_path` is deprecated. Please use `name` instead.\n",
      "2025/08/07 15:18:08 WARNING mlflow.models.model: Model logged without a signature and input example. Please set `input_example` parameter when logging the model to auto infer the model signature.\n"
     ]
    },
    {
     "name": "stdout",
     "output_type": "stream",
     "text": [
      "[2025-08-07 15:18:09,126: INFO: SVM Accuracy: 0.9844559585492227]\n",
      "[2025-08-07 15:18:09,127: INFO: Classifcation report:                            precision    recall  f1-score   support\n",
      "\n",
      "                 Advocate       1.00      0.33      0.50         3\n",
      "                     Arts       1.00      1.00      1.00         6\n",
      "       Automation Testing       1.00      1.00      1.00         5\n",
      "               Blockchain       1.00      1.00      1.00         7\n",
      "         Business Analyst       0.80      1.00      0.89         4\n",
      "           Civil Engineer       1.00      1.00      1.00         9\n",
      "             Data Science       1.00      1.00      1.00         5\n",
      "                 Database       1.00      1.00      1.00         8\n",
      "          DevOps Engineer       1.00      0.93      0.96        14\n",
      "         DotNet Developer       1.00      1.00      1.00         5\n",
      "            ETL Developer       1.00      1.00      1.00         7\n",
      "   Electrical Engineering       1.00      1.00      1.00         6\n",
      "                       HR       0.86      1.00      0.92        12\n",
      "                   Hadoop       1.00      1.00      1.00         4\n",
      "       Health and fitness       1.00      1.00      1.00         7\n",
      "           Java Developer       1.00      1.00      1.00        15\n",
      "      Mechanical Engineer       1.00      1.00      1.00         8\n",
      "Network Security Engineer       1.00      1.00      1.00         3\n",
      "       Operations Manager       1.00      1.00      1.00        12\n",
      "                      PMO       1.00      1.00      1.00         7\n",
      "         Python Developer       1.00      1.00      1.00        10\n",
      "            SAP Developer       1.00      1.00      1.00         7\n",
      "                    Sales       1.00      1.00      1.00         8\n",
      "                  Testing       1.00      1.00      1.00        16\n",
      "            Web Designing       1.00      1.00      1.00         5\n",
      "\n",
      "                 accuracy                           0.98       193\n",
      "                macro avg       0.99      0.97      0.97       193\n",
      "             weighted avg       0.99      0.98      0.98       193\n",
      "]\n"
     ]
    },
    {
     "name": "stderr",
     "output_type": "stream",
     "text": [
      "2025/08/07 15:18:09 WARNING mlflow.models.model: `artifact_path` is deprecated. Please use `name` instead.\n",
      "2025/08/07 15:18:14 WARNING mlflow.models.model: Model logged without a signature and input example. Please set `input_example` parameter when logging the model to auto infer the model signature.\n"
     ]
    },
    {
     "name": "stdout",
     "output_type": "stream",
     "text": [
      "[2025-08-07 15:18:15,332: WARNING: Compiled the loaded model, but the compiled metrics have yet to be built. `model.compile_metrics` will be empty until you train or evaluate the model.]\n",
      "\u001b[1m7/7\u001b[0m \u001b[32m━━━━━━━━━━━━━━━━━━━━\u001b[0m\u001b[37m\u001b[0m \u001b[1m1s\u001b[0m 24ms/step\n"
     ]
    },
    {
     "name": "stderr",
     "output_type": "stream",
     "text": [
      "d:\\Python\\Industry level\\EndtoEnd combination\\AI-Resume-Screening-with-ML-ops\\resume\\Lib\\site-packages\\sklearn\\metrics\\_classification.py:1731: UndefinedMetricWarning: Precision is ill-defined and being set to 0.0 in labels with no predicted samples. Use `zero_division` parameter to control this behavior.\n",
      "  _warn_prf(average, modifier, f\"{metric.capitalize()} is\", result.shape[0])\n",
      "d:\\Python\\Industry level\\EndtoEnd combination\\AI-Resume-Screening-with-ML-ops\\resume\\Lib\\site-packages\\sklearn\\metrics\\_classification.py:1731: UndefinedMetricWarning: Precision is ill-defined and being set to 0.0 in labels with no predicted samples. Use `zero_division` parameter to control this behavior.\n",
      "  _warn_prf(average, modifier, f\"{metric.capitalize()} is\", result.shape[0])\n",
      "d:\\Python\\Industry level\\EndtoEnd combination\\AI-Resume-Screening-with-ML-ops\\resume\\Lib\\site-packages\\sklearn\\metrics\\_classification.py:1731: UndefinedMetricWarning: Precision is ill-defined and being set to 0.0 in labels with no predicted samples. Use `zero_division` parameter to control this behavior.\n",
      "  _warn_prf(average, modifier, f\"{metric.capitalize()} is\", result.shape[0])\n",
      "2025/08/07 15:18:16 WARNING mlflow.models.model: `artifact_path` is deprecated. Please use `name` instead.\n",
      "2025/08/07 15:18:16 WARNING mlflow.keras.save: You are saving a Keras model without specifying model signature.\n",
      "2025/08/07 15:18:34 WARNING mlflow.models.model: Model logged without a signature and input example. Please set `input_example` parameter when logging the model to auto infer the model signature.\n"
     ]
    }
   ],
   "source": [
    "try:\n",
    "    config = ConfigurationManager()\n",
    "    model_eval_config = config.get_model_evaluation_config()\n",
    "    evaluator = ModelEvaluation(config=model_eval_config)\n",
    "    evaluator.evaluate()\n",
    "except Exception as e:\n",
    "    raise e\n"
   ]
  }
 ],
 "metadata": {
  "kernelspec": {
   "display_name": "resume",
   "language": "python",
   "name": "python3"
  },
  "language_info": {
   "codemirror_mode": {
    "name": "ipython",
    "version": 3
   },
   "file_extension": ".py",
   "mimetype": "text/x-python",
   "name": "python",
   "nbconvert_exporter": "python",
   "pygments_lexer": "ipython3",
   "version": "3.11.0"
  }
 },
 "nbformat": 4,
 "nbformat_minor": 5
}

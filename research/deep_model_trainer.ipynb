{
 "cells": [
  {
   "cell_type": "code",
   "execution_count": 1,
   "id": "fee078a7",
   "metadata": {},
   "outputs": [
    {
     "data": {
      "text/plain": [
       "'d:\\\\Python\\\\Industry level\\\\EndtoEnd combination\\\\AI-Resume-Screening-with-ML-ops'"
      ]
     },
     "execution_count": 1,
     "metadata": {},
     "output_type": "execute_result"
    }
   ],
   "source": [
    "import os\n",
    "os.chdir('../')\n",
    "%pwd"
   ]
  },
  {
   "cell_type": "code",
   "execution_count": 2,
   "id": "52da27f2",
   "metadata": {},
   "outputs": [],
   "source": [
    "from dataclasses import dataclass\n",
    "\n",
    "@dataclass(frozen=True)\n",
    "class DeepModelTrainerConfig:\n",
    "    root_dir: str\n",
    "    X_train_path: str\n",
    "    y_train_path: str\n",
    "    X_test_path: str\n",
    "    y_test_path: str\n",
    "    params: dict\n"
   ]
  },
  {
   "cell_type": "code",
   "execution_count": 3,
   "id": "9b06148a",
   "metadata": {},
   "outputs": [],
   "source": [
    "from resumeScreening.constants import *\n",
    "from resumeScreening.utils.common import read_yaml,create_directories"
   ]
  },
  {
   "cell_type": "code",
   "execution_count": 4,
   "id": "5a5f75a8",
   "metadata": {},
   "outputs": [],
   "source": [
    "class ConfigurationManager:\n",
    "    def __init__(\n",
    "            self,\n",
    "            config_filepath = CONFIG_FILE_PATH,\n",
    "            params_filepath = PARAMS_FILE_PATH\n",
    "    ):\n",
    "        self.config = read_yaml(config_filepath)\n",
    "        self.params = read_yaml(params_filepath)\n",
    "\n",
    "        create_directories([self.config.artifacts_root])\n",
    "\n",
    "    def get_deep_model_trainer_config(self) -> DeepModelTrainerConfig:\n",
    "        config = self.config.deep_model_trainer\n",
    "        create_directories([config.root_dir])\n",
    "\n",
    "        deep_model_trainer_config = DeepModelTrainerConfig(\n",
    "            root_dir= config.root_dir,\n",
    "            X_train_path= config.X_train_path,\n",
    "            y_train_path= config.y_train_path,\n",
    "            X_test_path= config.X_test_path,\n",
    "            y_test_path= config.y_test_path,\n",
    "            params= self.params.deep_learning\n",
    "        )\n",
    "\n",
    "        return deep_model_trainer_config"
   ]
  },
  {
   "cell_type": "code",
   "execution_count": 9,
   "id": "fadb3a3b",
   "metadata": {},
   "outputs": [],
   "source": [
    "import numpy as np\n",
    "from tensorflow.keras.models import Sequential\n",
    "from tensorflow.keras.layers import Dense, Dropout\n",
    "from tensorflow.keras.models import load_model\n",
    "from tensorflow.keras.models import save_model\n",
    "from sklearn.metrics import classification_report, accuracy_score\n",
    "import pickle\n",
    "from resumeScreening import logger\n",
    "import os"
   ]
  },
  {
   "cell_type": "code",
   "execution_count": 13,
   "id": "f8abe652",
   "metadata": {},
   "outputs": [],
   "source": [
    "class DeepModelTrainer:\n",
    "    def __init__(self, config):\n",
    "        self.config = config\n",
    "        self.X_train = np.load(self.config.X_train_path)\n",
    "        self.y_train = np.load(self.config.y_train_path)\n",
    "        self.X_test = np.load(self.config.X_test_path)\n",
    "        self.y_test = np.load(self.config.y_test_path)\n",
    "\n",
    "    def build_model(self):\n",
    "        layers = self.config.params.model.layers\n",
    "        dropout = self.config.params.model.dropout\n",
    "        activation = self.config.params.model.activation\n",
    "        output_activation = self.config.params.model.output_activation\n",
    "\n",
    "        model = Sequential()\n",
    "        model.add(Dense(layers[0], activation=activation, input_shape=(self.X_train.shape[1],)))\n",
    "        model.add(Dropout(dropout))\n",
    "\n",
    "        for units in layers[1:]:\n",
    "            model.add(Dense(units, activation=activation))\n",
    "            model.add(Dropout(dropout))\n",
    "\n",
    "        model.add(Dense(self.y_train.shape[1], activation=output_activation))\n",
    "\n",
    "        compile_cfg = self.config.params.compile\n",
    "\n",
    "        model.compile(\n",
    "            loss=compile_cfg.loss,\n",
    "            optimizer=compile_cfg.optimizer,\n",
    "            metrics=compile_cfg.metrics\n",
    "        )\n",
    "\n",
    "        return model\n",
    "\n",
    "    def train_and_save(self):\n",
    "        model = self.build_model()\n",
    "\n",
    "        history = model.fit(\n",
    "            self.X_train,\n",
    "            self.y_train,\n",
    "            epochs=self.config.params.training.epochs,\n",
    "            batch_size=self.config.params.training.batch_size,\n",
    "            validation_data=(self.X_test, self.y_test)\n",
    "        )\n",
    "\n",
    "        model_path = os.path.join(self.config.root_dir, \"deep_model.h5\")\n",
    "        model.save(model_path)\n",
    "        logger.info(f\"Model saved to {model_path}\")\n"
   ]
  },
  {
   "cell_type": "code",
   "execution_count": 14,
   "id": "bf62af97",
   "metadata": {},
   "outputs": [
    {
     "name": "stdout",
     "output_type": "stream",
     "text": [
      "[2025-08-06 05:40:32,977: INFO: yaml file: config\\config.yaml loaded successfully]\n",
      "[2025-08-06 05:40:32,983: INFO: yaml file: params.yaml loaded successfully]\n",
      "[2025-08-06 05:40:32,988: INFO: Created directory at: artifacts]\n",
      "[2025-08-06 05:40:32,988: INFO: Created directory at: artifacts/deep_model_trainer]\n"
     ]
    },
    {
     "name": "stderr",
     "output_type": "stream",
     "text": [
      "d:\\Python\\Industry level\\EndtoEnd combination\\AI-Resume-Screening-with-ML-ops\\resume\\Lib\\site-packages\\keras\\src\\layers\\core\\dense.py:92: UserWarning: Do not pass an `input_shape`/`input_dim` argument to a layer. When using Sequential models, prefer using an `Input(shape)` object as the first layer in the model instead.\n",
      "  super().__init__(activity_regularizer=activity_regularizer, **kwargs)\n"
     ]
    },
    {
     "name": "stdout",
     "output_type": "stream",
     "text": [
      "Epoch 1/10\n",
      "\u001b[1m25/25\u001b[0m \u001b[32m━━━━━━━━━━━━━━━━━━━━\u001b[0m\u001b[37m\u001b[0m \u001b[1m3s\u001b[0m 35ms/step - accuracy: 0.1951 - loss: 993.6530 - val_accuracy: 0.7876 - val_loss: 47.2807\n",
      "Epoch 2/10\n",
      "\u001b[1m25/25\u001b[0m \u001b[32m━━━━━━━━━━━━━━━━━━━━\u001b[0m\u001b[37m\u001b[0m \u001b[1m0s\u001b[0m 13ms/step - accuracy: 0.6151 - loss: 142.0715 - val_accuracy: 0.9741 - val_loss: 5.6434\n",
      "Epoch 3/10\n",
      "\u001b[1m25/25\u001b[0m \u001b[32m━━━━━━━━━━━━━━━━━━━━\u001b[0m\u001b[37m\u001b[0m \u001b[1m1s\u001b[0m 16ms/step - accuracy: 0.7815 - loss: 52.4073 - val_accuracy: 0.9845 - val_loss: 5.7410\n",
      "Epoch 4/10\n",
      "\u001b[1m25/25\u001b[0m \u001b[32m━━━━━━━━━━━━━━━━━━━━\u001b[0m\u001b[37m\u001b[0m \u001b[1m0s\u001b[0m 15ms/step - accuracy: 0.8531 - loss: 35.8045 - val_accuracy: 0.9845 - val_loss: 6.0637\n",
      "Epoch 5/10\n",
      "\u001b[1m25/25\u001b[0m \u001b[32m━━━━━━━━━━━━━━━━━━━━\u001b[0m\u001b[37m\u001b[0m \u001b[1m0s\u001b[0m 14ms/step - accuracy: 0.8765 - loss: 27.0221 - val_accuracy: 0.9845 - val_loss: 5.8264\n",
      "Epoch 6/10\n",
      "\u001b[1m25/25\u001b[0m \u001b[32m━━━━━━━━━━━━━━━━━━━━\u001b[0m\u001b[37m\u001b[0m \u001b[1m0s\u001b[0m 17ms/step - accuracy: 0.9272 - loss: 13.7191 - val_accuracy: 0.9845 - val_loss: 6.1281\n",
      "Epoch 7/10\n",
      "\u001b[1m25/25\u001b[0m \u001b[32m━━━━━━━━━━━━━━━━━━━━\u001b[0m\u001b[37m\u001b[0m \u001b[1m0s\u001b[0m 13ms/step - accuracy: 0.9363 - loss: 9.7251 - val_accuracy: 0.9845 - val_loss: 5.6530\n",
      "Epoch 8/10\n",
      "\u001b[1m25/25\u001b[0m \u001b[32m━━━━━━━━━━━━━━━━━━━━\u001b[0m\u001b[37m\u001b[0m \u001b[1m0s\u001b[0m 15ms/step - accuracy: 0.9584 - loss: 8.6487 - val_accuracy: 0.9845 - val_loss: 5.7741\n",
      "Epoch 9/10\n",
      "\u001b[1m25/25\u001b[0m \u001b[32m━━━━━━━━━━━━━━━━━━━━\u001b[0m\u001b[37m\u001b[0m \u001b[1m1s\u001b[0m 25ms/step - accuracy: 0.9532 - loss: 7.3160 - val_accuracy: 0.9845 - val_loss: 5.6304\n",
      "Epoch 10/10\n",
      "\u001b[1m25/25\u001b[0m \u001b[32m━━━━━━━━━━━━━━━━━━━━\u001b[0m\u001b[37m\u001b[0m \u001b[1m0s\u001b[0m 15ms/step - accuracy: 0.9428 - loss: 8.5765 - val_accuracy: 0.9845 - val_loss: 6.4358\n",
      "[2025-08-06 05:40:42,225: WARNING: You are saving your model as an HDF5 file via `model.save()` or `keras.saving.save_model(model)`. This file format is considered legacy. We recommend using instead the native Keras format, e.g. `model.save('my_model.keras')` or `keras.saving.save_model(model, 'my_model.keras')`. ]\n",
      "[2025-08-06 05:40:42,349: INFO: Model saved to artifacts/deep_model_trainer\\deep_model.h5]\n"
     ]
    }
   ],
   "source": [
    "try:\n",
    "    config = ConfigurationManager()\n",
    "    get_deep_model_trainer_config = config.get_deep_model_trainer_config()\n",
    "    deep_model_training = DeepModelTrainer(get_deep_model_trainer_config)\n",
    "    deep_model_training.train_and_save()\n",
    "except Exception as e:\n",
    "    raise e"
   ]
  }
 ],
 "metadata": {
  "kernelspec": {
   "display_name": "resume",
   "language": "python",
   "name": "python3"
  },
  "language_info": {
   "codemirror_mode": {
    "name": "ipython",
    "version": 3
   },
   "file_extension": ".py",
   "mimetype": "text/x-python",
   "name": "python",
   "nbconvert_exporter": "python",
   "pygments_lexer": "ipython3",
   "version": "3.11.0"
  }
 },
 "nbformat": 4,
 "nbformat_minor": 5
}

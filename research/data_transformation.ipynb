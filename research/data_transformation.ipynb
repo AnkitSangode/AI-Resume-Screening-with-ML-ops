{
 "cells": [
  {
   "cell_type": "code",
   "execution_count": 1,
   "id": "f029ecef",
   "metadata": {},
   "outputs": [
    {
     "data": {
      "text/plain": [
       "'d:\\\\Python\\\\Industry level\\\\EndtoEnd combination\\\\AI-Resume-Screening-with-ML-ops'"
      ]
     },
     "execution_count": 1,
     "metadata": {},
     "output_type": "execute_result"
    }
   ],
   "source": [
    "import os\n",
    "os.chdir('../')\n",
    "%pwd"
   ]
  },
  {
   "cell_type": "code",
   "execution_count": 2,
   "id": "ce355ea8",
   "metadata": {},
   "outputs": [],
   "source": [
    "from dataclasses import dataclass\n",
    "from pathlib import Path\n",
    "\n",
    "@dataclass(frozen=True)\n",
    "class DataTransformationConfig:\n",
    "    root_dir: Path\n",
    "    data_path: Path"
   ]
  },
  {
   "cell_type": "code",
   "execution_count": 3,
   "id": "fbcc7ca1",
   "metadata": {},
   "outputs": [],
   "source": [
    "from resumeScreening.constants import *\n",
    "from resumeScreening.utils.common import read_yaml,create_directories"
   ]
  },
  {
   "cell_type": "code",
   "execution_count": 4,
   "id": "aa6faf09",
   "metadata": {},
   "outputs": [],
   "source": [
    "class ConfigurationManager:\n",
    "    def __init__(\n",
    "            self,\n",
    "            config_filepath = CONFIG_FILE_PATH,\n",
    "            params_filepath = PARAMS_FILE_PATH\n",
    "    ):\n",
    "        self.config = read_yaml(config_filepath)\n",
    "        self.params = read_yaml(params_filepath)\n",
    "\n",
    "        create_directories([self.config.artifacts_root])\n",
    "\n",
    "    def get_data_transformation_config(self) -> DataTransformationConfig:\n",
    "        config = self.config.data_transformation\n",
    "\n",
    "        create_directories([config.root_dir])\n",
    "\n",
    "        data_transformation_config = DataTransformationConfig(\n",
    "            root_dir= config.root_dir,\n",
    "            data_path= config.data_path\n",
    "        )\n",
    "\n",
    "        return data_transformation_config"
   ]
  },
  {
   "cell_type": "code",
   "execution_count": 12,
   "id": "6a7f89bb",
   "metadata": {},
   "outputs": [
    {
     "data": {
      "text/plain": [
       "'d:\\\\Python\\\\Industry level\\\\EndtoEnd combination\\\\AI-Resume-Screening-with-ML-ops'"
      ]
     },
     "execution_count": 12,
     "metadata": {},
     "output_type": "execute_result"
    }
   ],
   "source": [
    "%pwd"
   ]
  },
  {
   "cell_type": "code",
   "execution_count": 16,
   "id": "02746d40",
   "metadata": {},
   "outputs": [],
   "source": [
    "\n",
    "from resumeScreening import logger\n",
    "from src.resumeScreening.utils.common import clean_resume\n",
    "from sklearn.model_selection import train_test_split\n",
    "import pandas as pd\n"
   ]
  },
  {
   "cell_type": "code",
   "execution_count": 26,
   "id": "b2ffdf4a",
   "metadata": {},
   "outputs": [],
   "source": [
    "class DataTransformation:\n",
    "    def __init__(self, config: DataTransformationConfig):\n",
    "        self.config = config\n",
    "\n",
    "    def data_transformation(self):\n",
    "        df = pd.read_csv(self.config.data_path)\n",
    "\n",
    "        df[\"Cleaned_Resume\"] = df[\"Resume\"].apply(clean_resume)\n",
    "\n",
    "        # Save full cleaned data\n",
    "        cleaned_path = Path(self.config.root_dir)/\"cleaned_data.csv\"\n",
    "        df.to_csv(cleaned_path, index=False)\n",
    "\n",
    "        # Train-test split\n",
    "        train, test = train_test_split(df, test_size=0.2, random_state=42)\n",
    "\n",
    "        # Save splits\n",
    "        train.to_csv(Path(self.config.root_dir)/\"train.csv\", index=False)\n",
    "        test.to_csv(Path(self.config.root_dir)/\"test.csv\", index=False)\n",
    "\n",
    "        logger.info(f\"[✓] Data cleaned and split. Files saved at: {self.config.root_dir}\")\n",
    "        "
   ]
  },
  {
   "cell_type": "code",
   "execution_count": 27,
   "id": "911da8f9",
   "metadata": {},
   "outputs": [
    {
     "name": "stdout",
     "output_type": "stream",
     "text": [
      "[2025-08-05 20:33:19,259: INFO: yaml file: config\\config.yaml loaded successfully]\n",
      "[2025-08-05 20:33:19,279: INFO: yaml file: params.yaml loaded successfully]\n"
     ]
    },
    {
     "name": "stdout",
     "output_type": "stream",
     "text": [
      "[2025-08-05 20:33:19,281: INFO: Created directory at: artifacts]\n",
      "[2025-08-05 20:33:19,286: INFO: Created directory at: artifacts/data_transformation]\n",
      "[2025-08-05 20:33:22,758: INFO: [✓] Data cleaned and split. Files saved at: artifacts/data_transformation]\n"
     ]
    },
    {
     "name": "stderr",
     "output_type": "stream",
     "text": [
      "--- Logging error ---\n",
      "Traceback (most recent call last):\n",
      "  File \"C:\\Users\\Ankit\\AppData\\Local\\Programs\\Python\\Python311\\Lib\\logging\\__init__.py\", line 1113, in emit\n",
      "    stream.write(msg + self.terminator)\n",
      "  File \"C:\\Users\\Ankit\\AppData\\Local\\Programs\\Python\\Python311\\Lib\\encodings\\cp1252.py\", line 19, in encode\n",
      "    return codecs.charmap_encode(input,self.errors,encoding_table)[0]\n",
      "           ^^^^^^^^^^^^^^^^^^^^^^^^^^^^^^^^^^^^^^^^^^^^^^^^^^^^^^^\n",
      "UnicodeEncodeError: 'charmap' codec can't encode character '\\u2713' in position 33: character maps to <undefined>\n",
      "Call stack:\n",
      "  File \"<frozen runpy>\", line 198, in _run_module_as_main\n",
      "  File \"<frozen runpy>\", line 88, in _run_code\n",
      "  File \"d:\\Python\\Industry level\\EndtoEnd combination\\AI-Resume-Screening-with-ML-ops\\resume\\Lib\\site-packages\\ipykernel_launcher.py\", line 18, in <module>\n",
      "    app.launch_new_instance()\n",
      "  File \"d:\\Python\\Industry level\\EndtoEnd combination\\AI-Resume-Screening-with-ML-ops\\resume\\Lib\\site-packages\\traitlets\\config\\application.py\", line 1075, in launch_instance\n",
      "    app.start()\n",
      "  File \"d:\\Python\\Industry level\\EndtoEnd combination\\AI-Resume-Screening-with-ML-ops\\resume\\Lib\\site-packages\\ipykernel\\kernelapp.py\", line 739, in start\n",
      "    self.io_loop.start()\n",
      "  File \"d:\\Python\\Industry level\\EndtoEnd combination\\AI-Resume-Screening-with-ML-ops\\resume\\Lib\\site-packages\\tornado\\platform\\asyncio.py\", line 211, in start\n",
      "    self.asyncio_loop.run_forever()\n",
      "  File \"C:\\Users\\Ankit\\AppData\\Local\\Programs\\Python\\Python311\\Lib\\asyncio\\base_events.py\", line 604, in run_forever\n",
      "    self._run_once()\n",
      "  File \"C:\\Users\\Ankit\\AppData\\Local\\Programs\\Python\\Python311\\Lib\\asyncio\\base_events.py\", line 1909, in _run_once\n",
      "    handle._run()\n",
      "  File \"C:\\Users\\Ankit\\AppData\\Local\\Programs\\Python\\Python311\\Lib\\asyncio\\events.py\", line 80, in _run\n",
      "    self._context.run(self._callback, *self._args)\n",
      "  File \"d:\\Python\\Industry level\\EndtoEnd combination\\AI-Resume-Screening-with-ML-ops\\resume\\Lib\\site-packages\\ipykernel\\kernelbase.py\", line 519, in dispatch_queue\n",
      "    await self.process_one()\n",
      "  File \"d:\\Python\\Industry level\\EndtoEnd combination\\AI-Resume-Screening-with-ML-ops\\resume\\Lib\\site-packages\\ipykernel\\kernelbase.py\", line 508, in process_one\n",
      "    await dispatch(*args)\n",
      "  File \"d:\\Python\\Industry level\\EndtoEnd combination\\AI-Resume-Screening-with-ML-ops\\resume\\Lib\\site-packages\\ipykernel\\kernelbase.py\", line 400, in dispatch_shell\n",
      "    await result\n",
      "  File \"d:\\Python\\Industry level\\EndtoEnd combination\\AI-Resume-Screening-with-ML-ops\\resume\\Lib\\site-packages\\ipykernel\\ipkernel.py\", line 368, in execute_request\n",
      "    await super().execute_request(stream, ident, parent)\n",
      "  File \"d:\\Python\\Industry level\\EndtoEnd combination\\AI-Resume-Screening-with-ML-ops\\resume\\Lib\\site-packages\\ipykernel\\kernelbase.py\", line 767, in execute_request\n",
      "    reply_content = await reply_content\n",
      "  File \"d:\\Python\\Industry level\\EndtoEnd combination\\AI-Resume-Screening-with-ML-ops\\resume\\Lib\\site-packages\\ipykernel\\ipkernel.py\", line 455, in do_execute\n",
      "    res = shell.run_cell(\n",
      "  File \"d:\\Python\\Industry level\\EndtoEnd combination\\AI-Resume-Screening-with-ML-ops\\resume\\Lib\\site-packages\\ipykernel\\zmqshell.py\", line 577, in run_cell\n",
      "    return super().run_cell(*args, **kwargs)\n",
      "  File \"d:\\Python\\Industry level\\EndtoEnd combination\\AI-Resume-Screening-with-ML-ops\\resume\\Lib\\site-packages\\IPython\\core\\interactiveshell.py\", line 3116, in run_cell\n",
      "    result = self._run_cell(\n",
      "  File \"d:\\Python\\Industry level\\EndtoEnd combination\\AI-Resume-Screening-with-ML-ops\\resume\\Lib\\site-packages\\IPython\\core\\interactiveshell.py\", line 3171, in _run_cell\n",
      "    result = runner(coro)\n",
      "  File \"d:\\Python\\Industry level\\EndtoEnd combination\\AI-Resume-Screening-with-ML-ops\\resume\\Lib\\site-packages\\IPython\\core\\async_helpers.py\", line 128, in _pseudo_sync_runner\n",
      "    coro.send(None)\n",
      "  File \"d:\\Python\\Industry level\\EndtoEnd combination\\AI-Resume-Screening-with-ML-ops\\resume\\Lib\\site-packages\\IPython\\core\\interactiveshell.py\", line 3394, in run_cell_async\n",
      "    has_raised = await self.run_ast_nodes(code_ast.body, cell_name,\n",
      "  File \"d:\\Python\\Industry level\\EndtoEnd combination\\AI-Resume-Screening-with-ML-ops\\resume\\Lib\\site-packages\\IPython\\core\\interactiveshell.py\", line 3639, in run_ast_nodes\n",
      "    if await self.run_code(code, result, async_=asy):\n",
      "  File \"d:\\Python\\Industry level\\EndtoEnd combination\\AI-Resume-Screening-with-ML-ops\\resume\\Lib\\site-packages\\IPython\\core\\interactiveshell.py\", line 3699, in run_code\n",
      "    exec(code_obj, self.user_global_ns, self.user_ns)\n",
      "  File \"C:\\Users\\Ankit\\AppData\\Local\\Temp\\ipykernel_24484\\667253171.py\", line 5, in <module>\n",
      "    data_transformation.data_transformation()\n",
      "  File \"C:\\Users\\Ankit\\AppData\\Local\\Temp\\ipykernel_24484\\1699298087.py\", line 21, in data_transformation\n",
      "    logger.info(f\"[✓] Data cleaned and split. Files saved at: {self.config.root_dir}\")\n",
      "Message: '[✓] Data cleaned and split. Files saved at: artifacts/data_transformation'\n",
      "Arguments: ()\n"
     ]
    }
   ],
   "source": [
    "try:\n",
    "    config = ConfigurationManager()\n",
    "    data_transformation_config = config.get_data_transformation_config()\n",
    "    data_transformation = DataTransformation(config= data_transformation_config)\n",
    "    data_transformation.data_transformation()\n",
    "except Exception as e:\n",
    "    raise e"
   ]
  }
 ],
 "metadata": {
  "kernelspec": {
   "display_name": "resume",
   "language": "python",
   "name": "python3"
  },
  "language_info": {
   "codemirror_mode": {
    "name": "ipython",
    "version": 3
   },
   "file_extension": ".py",
   "mimetype": "text/x-python",
   "name": "python",
   "nbconvert_exporter": "python",
   "pygments_lexer": "ipython3",
   "version": "3.11.0"
  }
 },
 "nbformat": 4,
 "nbformat_minor": 5
}
